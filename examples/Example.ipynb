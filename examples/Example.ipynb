{
 "cells": [
  {
   "cell_type": "markdown",
   "id": "entertaining-farming",
   "metadata": {},
   "source": [
    "# GeoTime Classify Examples\n",
    "\n",
    "All date formats are in the [Unicode Locale Data Markup Language (LDML)](https://unicode.org/reports/tr35/tr35-dates.html#Date_Field_Symbol_Table) format."
   ]
  },
  {
   "cell_type": "code",
   "execution_count": 1,
   "id": "indian-ghost",
   "metadata": {},
   "outputs": [
    {
     "name": "stderr",
     "output_type": "stream",
     "text": [
      "/Users/brandonrose/opt/anaconda3/envs/geotime/lib/python3.8/site-packages/fuzzywuzzy/fuzz.py:11: UserWarning: Using slow pure-python SequenceMatcher. Install python-Levenshtein to remove this warning\n",
      "  warnings.warn('Using slow pure-python SequenceMatcher. Install python-Levenshtein to remove this warning')\n"
     ]
    }
   ],
   "source": [
    "import pandas as pd\n",
    "from IPython.utils import io\n",
    "from geotime_classify import geotime_classify as gc"
   ]
  },
  {
   "cell_type": "code",
   "execution_count": 2,
   "id": "combined-baltimore",
   "metadata": {},
   "outputs": [],
   "source": [
    "GeoTimeClass = gc.GeoTimeClassify(100)"
   ]
  },
  {
   "cell_type": "markdown",
   "id": "loaded-acceptance",
   "metadata": {},
   "source": [
    "# Example Dataset 1:\n",
    "\n",
    "This dataset contains latitude, longitude and a date.\n",
    "\n",
    "All fields are correctly classified, including zero-padded month and day in the `date` field."
   ]
  },
  {
   "cell_type": "code",
   "execution_count": 3,
   "id": "earned-opera",
   "metadata": {},
   "outputs": [
    {
     "data": {
      "text/html": [
       "<div>\n",
       "<style scoped>\n",
       "    .dataframe tbody tr th:only-of-type {\n",
       "        vertical-align: middle;\n",
       "    }\n",
       "\n",
       "    .dataframe tbody tr th {\n",
       "        vertical-align: top;\n",
       "    }\n",
       "\n",
       "    .dataframe thead th {\n",
       "        text-align: right;\n",
       "    }\n",
       "</style>\n",
       "<table border=\"1\" class=\"dataframe\">\n",
       "  <thead>\n",
       "    <tr style=\"text-align: right;\">\n",
       "      <th></th>\n",
       "      <th>latitude</th>\n",
       "      <th>longitude</th>\n",
       "      <th>date</th>\n",
       "      <th>value</th>\n",
       "    </tr>\n",
       "  </thead>\n",
       "  <tbody>\n",
       "    <tr>\n",
       "      <th>0</th>\n",
       "      <td>-65.202852</td>\n",
       "      <td>-51.321629</td>\n",
       "      <td>1985-01-25</td>\n",
       "      <td>22.439431</td>\n",
       "    </tr>\n",
       "    <tr>\n",
       "      <th>1</th>\n",
       "      <td>71.084338</td>\n",
       "      <td>80.259661</td>\n",
       "      <td>1996-08-14</td>\n",
       "      <td>31.091719</td>\n",
       "    </tr>\n",
       "    <tr>\n",
       "      <th>2</th>\n",
       "      <td>-33.661254</td>\n",
       "      <td>3.735232</td>\n",
       "      <td>1987-01-21</td>\n",
       "      <td>47.118235</td>\n",
       "    </tr>\n",
       "    <tr>\n",
       "      <th>3</th>\n",
       "      <td>-88.514946</td>\n",
       "      <td>-165.692973</td>\n",
       "      <td>2012-04-28</td>\n",
       "      <td>16.431557</td>\n",
       "    </tr>\n",
       "    <tr>\n",
       "      <th>4</th>\n",
       "      <td>-81.020485</td>\n",
       "      <td>7.985187</td>\n",
       "      <td>1995-09-14</td>\n",
       "      <td>52.348503</td>\n",
       "    </tr>\n",
       "  </tbody>\n",
       "</table>\n",
       "</div>"
      ],
      "text/plain": [
       "    latitude   longitude        date      value\n",
       "0 -65.202852  -51.321629  1985-01-25  22.439431\n",
       "1  71.084338   80.259661  1996-08-14  31.091719\n",
       "2 -33.661254    3.735232  1987-01-21  47.118235\n",
       "3 -88.514946 -165.692973  2012-04-28  16.431557\n",
       "4 -81.020485    7.985187  1995-09-14  52.348503"
      ]
     },
     "execution_count": 3,
     "metadata": {},
     "output_type": "execute_result"
    }
   ],
   "source": [
    "pd.read_csv('example_1.csv').head()"
   ]
  },
  {
   "cell_type": "code",
   "execution_count": 4,
   "id": "manual-ideal",
   "metadata": {
    "scrolled": true
   },
   "outputs": [],
   "source": [
    "with io.capture_output() as captured:\n",
    "    c_classified=GeoTimeClass.columns_classified('example_1.csv')"
   ]
  },
  {
   "cell_type": "code",
   "execution_count": 5,
   "id": "beginning-clothing",
   "metadata": {
    "scrolled": false
   },
   "outputs": [
    {
     "name": "stdout",
     "output_type": "stream",
     "text": [
      "latitude: [{'Category': 'Geo', 'type': 'Latitude (number)'}]\n",
      "longitude: [{'Category': 'Geo', 'type': 'Longitude (number)'}]\n",
      "date: [{'Category': 'Date', 'Format': 'y-MM-dd', 'Parser': 'Util', 'DayFirst': False}]\n",
      "value: [{'Category': 'Geo', 'type': 'Latitude (number)'}]\n"
     ]
    }
   ],
   "source": [
    "for c in c_classified:\n",
    "    print(f\"{c['column']}: {c['classification']}\")"
   ]
  },
  {
   "cell_type": "markdown",
   "id": "aquatic-leadership",
   "metadata": {},
   "source": [
    "# Example Dataset 2:\n",
    "\n",
    "In this dataset, `latitude` and `longitude` are labelled `y` and `x` respectively, adding a challenge.\n",
    "\n",
    "Additionally, this dataset has `city` and `country` (which is a country code). The `ts` column is a long date.\n",
    "\n",
    "All columns are correctly classified with the exception of `ts`. `ts` is correctly categorized as a `Date`, however the detected format is:\n",
    "\n",
    "```\n",
    "LLLL dd, y\n",
    "```\n",
    "\n",
    "It is actually:\n",
    "\n",
    "```\n",
    "LLLL d, y\n",
    "```\n",
    "\n",
    "since there is no zero-padding on the day."
   ]
  },
  {
   "cell_type": "code",
   "execution_count": 6,
   "id": "mighty-analyst",
   "metadata": {},
   "outputs": [
    {
     "data": {
      "text/html": [
       "<div>\n",
       "<style scoped>\n",
       "    .dataframe tbody tr th:only-of-type {\n",
       "        vertical-align: middle;\n",
       "    }\n",
       "\n",
       "    .dataframe tbody tr th {\n",
       "        vertical-align: top;\n",
       "    }\n",
       "\n",
       "    .dataframe thead th {\n",
       "        text-align: right;\n",
       "    }\n",
       "</style>\n",
       "<table border=\"1\" class=\"dataframe\">\n",
       "  <thead>\n",
       "    <tr style=\"text-align: right;\">\n",
       "      <th></th>\n",
       "      <th>y</th>\n",
       "      <th>x</th>\n",
       "      <th>city</th>\n",
       "      <th>country</th>\n",
       "      <th>ts</th>\n",
       "      <th>value</th>\n",
       "    </tr>\n",
       "  </thead>\n",
       "  <tbody>\n",
       "    <tr>\n",
       "      <th>0</th>\n",
       "      <td>38.96667</td>\n",
       "      <td>-0.18333</td>\n",
       "      <td>Gandia</td>\n",
       "      <td>ES</td>\n",
       "      <td>February 17, 1983</td>\n",
       "      <td>9624</td>\n",
       "    </tr>\n",
       "    <tr>\n",
       "      <th>1</th>\n",
       "      <td>17.06542</td>\n",
       "      <td>-96.72365</td>\n",
       "      <td>Oaxaca</td>\n",
       "      <td>MX</td>\n",
       "      <td>April 7, 1996</td>\n",
       "      <td>8973</td>\n",
       "    </tr>\n",
       "    <tr>\n",
       "      <th>2</th>\n",
       "      <td>59.33333</td>\n",
       "      <td>18.28333</td>\n",
       "      <td>Boo</td>\n",
       "      <td>SE</td>\n",
       "      <td>December 5, 2012</td>\n",
       "      <td>9348</td>\n",
       "    </tr>\n",
       "    <tr>\n",
       "      <th>3</th>\n",
       "      <td>36.20829</td>\n",
       "      <td>-115.98391</td>\n",
       "      <td>Pahrump</td>\n",
       "      <td>US</td>\n",
       "      <td>October 27, 2011</td>\n",
       "      <td>7594</td>\n",
       "    </tr>\n",
       "    <tr>\n",
       "      <th>4</th>\n",
       "      <td>54.03876</td>\n",
       "      <td>43.91385</td>\n",
       "      <td>Kovylkino</td>\n",
       "      <td>RU</td>\n",
       "      <td>July 20, 1998</td>\n",
       "      <td>96</td>\n",
       "    </tr>\n",
       "  </tbody>\n",
       "</table>\n",
       "</div>"
      ],
      "text/plain": [
       "          y          x       city country                 ts  value\n",
       "0  38.96667   -0.18333     Gandia      ES  February 17, 1983   9624\n",
       "1  17.06542  -96.72365     Oaxaca      MX      April 7, 1996   8973\n",
       "2  59.33333   18.28333        Boo      SE   December 5, 2012   9348\n",
       "3  36.20829 -115.98391    Pahrump      US   October 27, 2011   7594\n",
       "4  54.03876   43.91385  Kovylkino      RU      July 20, 1998     96"
      ]
     },
     "execution_count": 6,
     "metadata": {},
     "output_type": "execute_result"
    }
   ],
   "source": [
    "pd.read_csv('example_2.csv').head()"
   ]
  },
  {
   "cell_type": "code",
   "execution_count": 7,
   "id": "medium-leave",
   "metadata": {
    "scrolled": true
   },
   "outputs": [],
   "source": [
    "with io.capture_output() as captured:\n",
    "    c_classified=GeoTimeClass.columns_classified('example_2.csv')"
   ]
  },
  {
   "cell_type": "code",
   "execution_count": 8,
   "id": "polar-heavy",
   "metadata": {
    "scrolled": true
   },
   "outputs": [
    {
     "name": "stdout",
     "output_type": "stream",
     "text": [
      "y: [{'Category': 'Geo', 'type': 'Latitude (number)'}]\n",
      "x: [{'Category': 'Geo', 'type': 'Longitude (number)'}]\n",
      "city: [{'Category': 'City Name'}]\n",
      "country: [{'Category': 'ISO2'}]\n",
      "ts: [{'Category': 'Date', 'Format': 'LLLL dd, y', 'Parser': 'Util'}]\n",
      "value: [{'Category': 'None'}]\n"
     ]
    }
   ],
   "source": [
    "for c in c_classified:\n",
    "    print(f\"{c['column']}: {c['classification']}\")"
   ]
  },
  {
   "cell_type": "markdown",
   "id": "expanded-youth",
   "metadata": {},
   "source": [
    "# Example Dataset 3:\n",
    "\n",
    "\n",
    "This dataset has a date related challenge: date is now split across 3 columns (`month`, `day`, `year`). These columns are correctly identified.\n",
    "\n",
    "Additionally a `region` column is introduced and is correctly categorized as `Continent`."
   ]
  },
  {
   "cell_type": "code",
   "execution_count": 9,
   "id": "reflected-reading",
   "metadata": {},
   "outputs": [
    {
     "data": {
      "text/html": [
       "<div>\n",
       "<style scoped>\n",
       "    .dataframe tbody tr th:only-of-type {\n",
       "        vertical-align: middle;\n",
       "    }\n",
       "\n",
       "    .dataframe tbody tr th {\n",
       "        vertical-align: top;\n",
       "    }\n",
       "\n",
       "    .dataframe thead th {\n",
       "        text-align: right;\n",
       "    }\n",
       "</style>\n",
       "<table border=\"1\" class=\"dataframe\">\n",
       "  <thead>\n",
       "    <tr style=\"text-align: right;\">\n",
       "      <th></th>\n",
       "      <th>lat</th>\n",
       "      <th>lng</th>\n",
       "      <th>region</th>\n",
       "      <th>place_name</th>\n",
       "      <th>month</th>\n",
       "      <th>day</th>\n",
       "      <th>year</th>\n",
       "      <th>value</th>\n",
       "    </tr>\n",
       "  </thead>\n",
       "  <tbody>\n",
       "    <tr>\n",
       "      <th>0</th>\n",
       "      <td>17.30858</td>\n",
       "      <td>97.01124</td>\n",
       "      <td>Asia</td>\n",
       "      <td>Yangon</td>\n",
       "      <td>1</td>\n",
       "      <td>22</td>\n",
       "      <td>1997</td>\n",
       "      <td>3660</td>\n",
       "    </tr>\n",
       "    <tr>\n",
       "      <th>1</th>\n",
       "      <td>40.60538</td>\n",
       "      <td>-73.75513</td>\n",
       "      <td>America</td>\n",
       "      <td>New York</td>\n",
       "      <td>11</td>\n",
       "      <td>5</td>\n",
       "      <td>1983</td>\n",
       "      <td>9859</td>\n",
       "    </tr>\n",
       "    <tr>\n",
       "      <th>2</th>\n",
       "      <td>33.41012</td>\n",
       "      <td>-91.06177</td>\n",
       "      <td>America</td>\n",
       "      <td>Chicago</td>\n",
       "      <td>8</td>\n",
       "      <td>21</td>\n",
       "      <td>1982</td>\n",
       "      <td>1906</td>\n",
       "    </tr>\n",
       "    <tr>\n",
       "      <th>3</th>\n",
       "      <td>38.58894</td>\n",
       "      <td>-89.99038</td>\n",
       "      <td>America</td>\n",
       "      <td>Chicago</td>\n",
       "      <td>5</td>\n",
       "      <td>9</td>\n",
       "      <td>1991</td>\n",
       "      <td>2960</td>\n",
       "    </tr>\n",
       "    <tr>\n",
       "      <th>4</th>\n",
       "      <td>51.67822</td>\n",
       "      <td>33.91620</td>\n",
       "      <td>Europe</td>\n",
       "      <td>Kiev</td>\n",
       "      <td>1</td>\n",
       "      <td>20</td>\n",
       "      <td>2010</td>\n",
       "      <td>9377</td>\n",
       "    </tr>\n",
       "  </tbody>\n",
       "</table>\n",
       "</div>"
      ],
      "text/plain": [
       "        lat       lng   region place_name  month  day  year  value\n",
       "0  17.30858  97.01124     Asia     Yangon      1   22  1997   3660\n",
       "1  40.60538 -73.75513  America   New York     11    5  1983   9859\n",
       "2  33.41012 -91.06177  America    Chicago      8   21  1982   1906\n",
       "3  38.58894 -89.99038  America    Chicago      5    9  1991   2960\n",
       "4  51.67822  33.91620   Europe       Kiev      1   20  2010   9377"
      ]
     },
     "execution_count": 9,
     "metadata": {},
     "output_type": "execute_result"
    }
   ],
   "source": [
    "pd.read_csv('example_3.csv').head()"
   ]
  },
  {
   "cell_type": "code",
   "execution_count": 10,
   "id": "processed-province",
   "metadata": {
    "scrolled": true
   },
   "outputs": [],
   "source": [
    "with io.capture_output() as captured:\n",
    "    c_classified=GeoTimeClass.columns_classified('example_3.csv')"
   ]
  },
  {
   "cell_type": "code",
   "execution_count": 11,
   "id": "superb-catering",
   "metadata": {},
   "outputs": [
    {
     "name": "stdout",
     "output_type": "stream",
     "text": [
      "lat: [{'Category': 'Geo', 'type': 'Latitude (number)'}]\n",
      "lng: [{'Category': 'Geo', 'type': 'Longitude (number)'}]\n",
      "region: [{'Category': 'Continent'}]\n",
      "place_name: [{'Category': 'City Name'}]\n",
      "month: [{'Category': 'Month Number'}]\n",
      "day: [{'Category': 'Day Number'}]\n",
      "year: [{'Category': 'Year'}]\n",
      "value: [{'Category': 'None'}]\n"
     ]
    }
   ],
   "source": [
    "for c in c_classified:\n",
    "    print(f\"{c['column']}: {c['classification']}\")"
   ]
  }
 ],
 "metadata": {
  "kernelspec": {
   "display_name": "Python 3",
   "language": "python",
   "name": "python3"
  },
  "language_info": {
   "codemirror_mode": {
    "name": "ipython",
    "version": 3
   },
   "file_extension": ".py",
   "mimetype": "text/x-python",
   "name": "python",
   "nbconvert_exporter": "python",
   "pygments_lexer": "ipython3",
   "version": "3.8.8"
  }
 },
 "nbformat": 4,
 "nbformat_minor": 5
}
