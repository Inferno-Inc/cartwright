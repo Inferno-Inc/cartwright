{
 "cells": [
  {
   "cell_type": "code",
   "execution_count": 1,
   "id": "c3d1f29c",
   "metadata": {},
   "outputs": [],
   "source": [
    "from typing import List, Optional\n",
    "from pydantic import BaseModel,Field\n",
    "import pandas as pd\n",
    "import json\n",
    "from geotime_classify import geotime_classify as gc"
   ]
  },
  {
   "cell_type": "markdown",
   "id": "fe5ab9c6",
   "metadata": {},
   "source": [
    "## geotime_classify schema\n",
    "Geotime_classify will return classification data in a logical and relable way. For each file there is a Classifications model which is a list of each column's Classification. The Classification model defines the classification of one column of the dataframe. The fuzzyColumn model is only defined when the column header matches a word of interest that geotime_classify looks for. "
   ]
  },
  {
   "cell_type": "code",
   "execution_count": 2,
   "id": "9773e2d3",
   "metadata": {},
   "outputs": [],
   "source": [
    "# geotime_classify pydantic models\n",
    "  \n",
    "class fuzzyColumn(BaseModel):\n",
    "    matchedKey: str= Field( default=None)\n",
    "    fuzzyCategory: str= Field( default= None)\n",
    "    ratio: int = Field(default = None)\n",
    "        \n",
    "class Classification(BaseModel):\n",
    "    column: str = None\n",
    "    category: str = None\n",
    "    subcategory: str = None\n",
    "    format: str = None\n",
    "    match_type: List =[]\n",
    "    Parser: str = None\n",
    "    DayFirst:bool = None\n",
    "    fuzzyColumn: Optional[fuzzyColumn]\n",
    "\n",
    "class Classifications(BaseModel):\n",
    "    Classifications: List[Classification]"
   ]
  },
  {
   "cell_type": "code",
   "execution_count": 3,
   "id": "8da4c696",
   "metadata": {},
   "outputs": [
    {
     "data": {
      "text/html": [
       "<div>\n",
       "<style scoped>\n",
       "    .dataframe tbody tr th:only-of-type {\n",
       "        vertical-align: middle;\n",
       "    }\n",
       "\n",
       "    .dataframe tbody tr th {\n",
       "        vertical-align: top;\n",
       "    }\n",
       "\n",
       "    .dataframe thead th {\n",
       "        text-align: right;\n",
       "    }\n",
       "</style>\n",
       "<table border=\"1\" class=\"dataframe\">\n",
       "  <thead>\n",
       "    <tr style=\"text-align: right;\">\n",
       "      <th></th>\n",
       "      <th>country</th>\n",
       "      <th>value</th>\n",
       "      <th>Latitude</th>\n",
       "      <th>Longitude</th>\n",
       "      <th>Y/d/m</th>\n",
       "      <th>month_name</th>\n",
       "      <th>month_number</th>\n",
       "      <th>year</th>\n",
       "      <th>Day_name</th>\n",
       "      <th>Day Number</th>\n",
       "      <th>bool</th>\n",
       "    </tr>\n",
       "  </thead>\n",
       "  <tbody>\n",
       "    <tr>\n",
       "      <th>0</th>\n",
       "      <td>Cote d'Ivoire</td>\n",
       "      <td>1</td>\n",
       "      <td>45.499494</td>\n",
       "      <td>12.039393</td>\n",
       "      <td>2018/15/1</td>\n",
       "      <td>January</td>\n",
       "      <td>1</td>\n",
       "      <td>1888</td>\n",
       "      <td>Wednesday</td>\n",
       "      <td>1</td>\n",
       "      <td>T</td>\n",
       "    </tr>\n",
       "    <tr>\n",
       "      <th>1</th>\n",
       "      <td>Ghana</td>\n",
       "      <td>2</td>\n",
       "      <td>6.944658</td>\n",
       "      <td>39.240347</td>\n",
       "      <td>2018/15/2</td>\n",
       "      <td>February</td>\n",
       "      <td>2</td>\n",
       "      <td>1987</td>\n",
       "      <td>Monday</td>\n",
       "      <td>2</td>\n",
       "      <td>T</td>\n",
       "    </tr>\n",
       "    <tr>\n",
       "      <th>2</th>\n",
       "      <td>Liberia</td>\n",
       "      <td>3</td>\n",
       "      <td>7.944658</td>\n",
       "      <td>40.240347</td>\n",
       "      <td>2018/15/1</td>\n",
       "      <td>January</td>\n",
       "      <td>3</td>\n",
       "      <td>2003</td>\n",
       "      <td>Tuesday</td>\n",
       "      <td>3</td>\n",
       "      <td>F</td>\n",
       "    </tr>\n",
       "    <tr>\n",
       "      <th>3</th>\n",
       "      <td>Morocco</td>\n",
       "      <td>4</td>\n",
       "      <td>8.944658</td>\n",
       "      <td>41.240347</td>\n",
       "      <td>2018/15/1</td>\n",
       "      <td>February</td>\n",
       "      <td>4</td>\n",
       "      <td>2004</td>\n",
       "      <td>Thursday</td>\n",
       "      <td>4</td>\n",
       "      <td>T</td>\n",
       "    </tr>\n",
       "    <tr>\n",
       "      <th>4</th>\n",
       "      <td>Burkina Faso</td>\n",
       "      <td>5</td>\n",
       "      <td>9.944658</td>\n",
       "      <td>42.240347</td>\n",
       "      <td>2018/15/1</td>\n",
       "      <td>March</td>\n",
       "      <td>5</td>\n",
       "      <td>2005</td>\n",
       "      <td>Friday</td>\n",
       "      <td>5</td>\n",
       "      <td>T</td>\n",
       "    </tr>\n",
       "  </tbody>\n",
       "</table>\n",
       "</div>"
      ],
      "text/plain": [
       "         country  value   Latitude  Longitude      Y/d/m month_name  \\\n",
       "0  Cote d'Ivoire      1  45.499494  12.039393  2018/15/1    January   \n",
       "1          Ghana      2   6.944658  39.240347  2018/15/2   February   \n",
       "2        Liberia      3   7.944658  40.240347  2018/15/1    January   \n",
       "3        Morocco      4   8.944658  41.240347  2018/15/1   February   \n",
       "4   Burkina Faso      5   9.944658  42.240347  2018/15/1      March   \n",
       "\n",
       "   month_number  year   Day_name  Day Number bool  \n",
       "0             1  1888  Wednesday           1    T  \n",
       "1             2  1987     Monday           2    T  \n",
       "2             3  2003    Tuesday           3    F  \n",
       "3             4  2004   Thursday           4    T  \n",
       "4             5  2005     Friday           5    T  "
      ]
     },
     "execution_count": 3,
     "metadata": {},
     "output_type": "execute_result"
    }
   ],
   "source": [
    "# The csv filed used for this example\n",
    "pd.read_csv('example_4.csv').head()"
   ]
  },
  {
   "cell_type": "code",
   "execution_count": 11,
   "id": "69690a41",
   "metadata": {},
   "outputs": [],
   "source": [
    "# instantiate the GeoTimeClassify class and run the model over our csv\n",
    "gc_instantiated=gc.GeoTimeClassify(20)\n",
    "preds=gc_instantiated.columns_classifed('example_4.csv')\n"
   ]
  },
  {
   "cell_type": "code",
   "execution_count": 10,
   "id": "9801e3e9",
   "metadata": {
    "scrolled": true
   },
   "outputs": [],
   "source": [
    "#print output\n",
    "preds\n"
   ]
  },
  {
   "cell_type": "code",
   "execution_count": null,
   "id": "23e84df5",
   "metadata": {},
   "outputs": [],
   "source": [
    "print(json.dumps(preds, indent=2))"
   ]
  }
 ],
 "metadata": {
  "kernelspec": {
   "display_name": "Python 3",
   "language": "python",
   "name": "python3"
  },
  "language_info": {
   "codemirror_mode": {
    "name": "ipython",
    "version": 3
   },
   "file_extension": ".py",
   "mimetype": "text/x-python",
   "name": "python",
   "nbconvert_exporter": "python",
   "pygments_lexer": "ipython3",
   "version": "3.8.8"
  }
 },
 "nbformat": 4,
 "nbformat_minor": 5
}
